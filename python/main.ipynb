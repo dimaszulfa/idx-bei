{
 "cells": [
  {
   "cell_type": "code",
   "execution_count": null,
   "id": "bbca1d53",
   "metadata": {},
   "outputs": [],
   "source": [
    "import pandas as pd\n",
    "\n",
    "len(pd.read_json('/home/al/projects/idx-bei/data/companyDetailsByKodeEmiten.json').columns)"
   ]
  },
  {
   "cell_type": "code",
   "execution_count": null,
   "id": "7b03f583",
   "metadata": {},
   "outputs": [],
   "source": [
    "with open(\"/home/al/projects/idx-bei/data/companyDetailsByKodeEmiten.json\", \"r\", encoding=\"utf-8\") as f:\n",
    "    stocks = json.load(f)  # Make sure this returns a list of dicts\n"
   ]
  },
  {
   "cell_type": "code",
   "execution_count": null,
   "id": "7edc335c",
   "metadata": {},
   "outputs": [],
   "source": [
    "print(type(stocks))         # should be <class 'list'>\n",
    "print(type(stocks[0]))      # should be <class 'dict'>\n"
   ]
  },
  {
   "cell_type": "code",
   "execution_count": 9,
   "id": "ffd8d722",
   "metadata": {},
   "outputs": [
    {
     "name": "stdout",
     "output_type": "stream",
     "text": [
      "Dr. M. Arsjad Rasjid PM BSC  -->  arsjad rasjid\n",
      "m arsjad rasjid pm  -->  arsjad rasjid\n",
      "MR. Joko Widodo, S.H., M.H.  -->  joko widodo\n",
      "Ir. Sri Mulyani Indrawati, M.Si.  -->  sri mulyani indrawati\n",
      "Mrs. Megawati S. Soekarnoputri  -->  megawati soekarnoputri\n",
      "Hj. Tri Rismaharini  -->  tri rismaharini\n"
     ]
    }
   ],
   "source": [
    "import re\n",
    "\n",
    "def clean_indonesian_name(name):\n",
    "    # Define known titles, degrees, and honorifics (add more as needed)\n",
    "    noise_tokens = {\n",
    "        'dr', 'drs', 'h', 'ir', 'prof', 'kh', 'hj', 'hrh', 'mr', 'mrs', 'ms',  # prefixes\n",
    "        'sh', 'mh', 'phd', 'spd', 'mpd', 'se', 'mm', 'msi', 'skom', 'st', 'mt', 'mkom', 'pm', 'bsc'  # suffixes\n",
    "    }\n",
    "\n",
    "    name = name.lower()\n",
    "    name = re.sub(r'[^\\w\\s]', '', name)  # remove punctuation\n",
    "    tokens = name.split()\n",
    "    \n",
    "    # Remove known titles and single-letter fragments (initials)\n",
    "    tokens = [t for t in tokens if t not in noise_tokens and len(t) > 2]\n",
    "    \n",
    "    return ' '.join(tokens)\n",
    "\n",
    "# Example usage\n",
    "names = [\n",
    "    \"Dr. M. Arsjad Rasjid PM BSC\",\n",
    "    \"m arsjad rasjid pm\",\n",
    "    \"MR. Joko Widodo, S.H., M.H.\",\n",
    "    \"Ir. Sri Mulyani Indrawati, M.Si.\",\n",
    "    \"Mrs. Megawati S. Soekarnoputri\",\n",
    "    \"Hj. Tri Rismaharini\"\n",
    "]\n",
    "\n",
    "cleaned = [clean_indonesian_name(n) for n in names]\n",
    "for original, c in zip(names, cleaned):\n",
    "    print(f\"{original}  -->  {c}\")\n"
   ]
  },
  {
   "cell_type": "code",
   "execution_count": 2,
   "id": "b51a3a8e",
   "metadata": {},
   "outputs": [],
   "source": [
    "import json\n",
    "from neo4j import GraphDatabase\n",
    "\n",
    "# Neo4j connection config\n",
    "NEO4J_URI = \"bolt://localhost:7687\"\n",
    "NEO4J_USER = \"neo4j\"\n",
    "NEO4J_PASSWORD = \"password\""
   ]
  },
  {
   "cell_type": "code",
   "execution_count": 10,
   "id": "5cc12a86",
   "metadata": {},
   "outputs": [
    {
     "name": "stdout",
     "output_type": "stream",
     "text": [
      "Ingestion complete.\n"
     ]
    }
   ],
   "source": [
    "# Load JSON data\n",
    "with open(\"/home/al/projects/idx-bei/data/companyDetailsByKodeEmiten.json\", \"r\", encoding=\"utf-8\") as f:\n",
    "    stocks = dict(list(json.load(f).items())[:])\n",
    "\n",
    "# Connect to Neo4j\n",
    "driver = GraphDatabase.driver(NEO4J_URI, auth=(NEO4J_USER, NEO4J_PASSWORD))\n",
    "\n",
    "def ingest_stock(tx, stock):\n",
    "    # Create Company node\n",
    "    tx.run(\"\"\"\n",
    "        MERGE (c:Company {kode: $kode})\n",
    "        SET c.name = $kode, c.industry = $industry, c.sector = $sector, c.website = $website, c.companyName = $name\n",
    "    \"\"\", kode=stock['Profiles'][0][\"KodeEmiten\"], name=stock['Profiles'][0][\"NamaEmiten\"], industry=stock['Profiles'][0][\"Industri\"], sector=stock['Profiles'][0][\"Sektor\"], website=stock['Profiles'][0][\"Website\"])\n",
    "\n",
    "    # Directors\n",
    "    for d in stock.get(\"Direktur\", []):\n",
    "        tx.run(\"\"\"\n",
    "            MERGE (d:Insider {name: $name})\n",
    "            WITH d\n",
    "            MATCH (c:Company {kode: $kode})\n",
    "            MERGE (d)-[:DIRECTOR_OF {jabatan: $jabatan, afiliasi: $afiliasi}]->(c)\n",
    "        \"\"\", name=clean_indonesian_name(d[\"Nama\"]), jabatan=d[\"Jabatan\"], afiliasi=d.get(\"Afiliasi\", False), kode=stock['Profiles'][0][\"KodeEmiten\"])\n",
    "\n",
    "    # Commissioners\n",
    "    for k in stock.get(\"Komisaris\", []):\n",
    "        tx.run(\"\"\"\n",
    "            MERGE (k:Insider {name: $name})\n",
    "            WITH k\n",
    "            MATCH (c:Company {kode: $kode})\n",
    "            MERGE (k)-[:COMMISSIONER_OF {jabatan: $jabatan, independen: $independen}]->(c)\n",
    "        \"\"\", name=clean_indonesian_name(k[\"Nama\"]), jabatan=k[\"Jabatan\"], independen=k.get(\"Independen\", False), kode=stock['Profiles'][0][\"KodeEmiten\"])\n",
    "\n",
    "    # Shareholders\n",
    "    for s in stock.get(\"PemegangSaham\", []):\n",
    "        tx.run(\"\"\"\n",
    "            MERGE (s:Insider {name: $name})\n",
    "            WITH s\n",
    "            MATCH (c:Company {kode: $kode})\n",
    "            MERGE (s)-[:OWNS {jumlah: $jumlah, kategori: $kategori, pengendali: $pengendali, persentase: $persentase}]->(c)\n",
    "        \"\"\",\n",
    "            jumlah=s.get(\"Jumlah\"),  \n",
    "            kategori=s.get(\"Kategori\"),\n",
    "            name=clean_indonesian_name(s[\"Nama\"]), \n",
    "            pengendali=s.get(\"Pengendali\"),\n",
    "            persentase=s.get(\"Persentase\"),  \n",
    "            kode=stock['Profiles'][0][\"KodeEmiten\"]\n",
    "        )\n",
    "    # Subsidiaries (AnakPerusahaan)\n",
    "    for a in stock.get(\"AnakPerusahaan\", []):\n",
    "        tx.run(\"\"\"\n",
    "            MERGE (s:Subsidiary {name: $name})\n",
    "            SET s.bidangUsaha = $bidang_usaha, s.lokasi = $lokasi, s.jumlahAset = $jumlah_aset,\n",
    "                s.satuan = $satuan, s.statusOperasi = $status_operasi, s.tahunKomersil = $tahun_komersil,\n",
    "                s.mataUang = $mata_uang\n",
    "            WITH s\n",
    "            MATCH (c:Company {kode: $kode})\n",
    "            MERGE (s)-[:SUBSIDIARY_OF {persentase: $persentase}]->(c)\n",
    "        \"\"\", name=a[\"Nama\"], bidang_usaha=a[\"BidangUsaha\"], lokasi=a[\"Lokasi\"], jumlah_aset=a[\"JumlahAset\"],\n",
    "            satuan=a[\"Satuan\"], status_operasi=a[\"StatusOperasi\"], tahun_komersil=a[\"TahunKomersil\"],\n",
    "            mata_uang=a[\"MataUang\"], persentase=a[\"Persentase\"], kode=stock['Profiles'][0][\"KodeEmiten\"])\n",
    "\n",
    "    # Dividends (Dividen)\n",
    "    for d in stock.get(\"Dividen\", []):\n",
    "        tx.run(\"\"\"\n",
    "            MATCH (c:Company {kode: $kode})\n",
    "            MERGE (div:Dividend {tahunBuku: $tahun_buku, jenis: $jenis})\n",
    "            SET div.nama = $nama, div.totalSahamBonus = $total_saham_bonus, \n",
    "                div.cashDividenPerSaham = $cash_per_saham, div.cashDividenPerSahamMU = $cash_per_saham_mu,\n",
    "                div.cashDividenTotal = $cash_total, div.cashDividenTotalMU = $cash_total_mu,\n",
    "                div.tanggalCum = date($tanggal_cum), div.tanggalEx = date($tanggal_ex),\n",
    "                div.tanggalDPS = datetime($tanggal_dps), div.tanggalPembayaran = date($tanggal_pembayaran),\n",
    "                div.rasio1 = $rasio1, div.rasio2 = $rasio2\n",
    "            MERGE (c)-[:PAID_DIVIDEND]->(div)\n",
    "        \"\"\", kode=d[\"Nama\"], nama=d[\"Nama\"], jenis=d[\"Jenis\"], tahun_buku=d[\"TahunBuku\"],\n",
    "            total_saham_bonus=d[\"TotalSahamBonus\"], cash_per_saham=d[\"CashDividenPerSaham\"],\n",
    "            cash_per_saham_mu=d[\"CashDividenPerSahamMU\"], cash_total=d[\"CashDividenTotal\"],\n",
    "            cash_total_mu=d[\"CashDividenTotalMU\"], tanggal_cum=d[\"TanggalCum\"][:10],\n",
    "            tanggal_ex=d[\"TanggalExRegulerDanNegosiasi\"][:10], tanggal_dps=d[\"TanggalDPS\"],\n",
    "            tanggal_pembayaran=d[\"TanggalPembayaran\"][:10], rasio1=d[\"Rasio1\"], rasio2=d[\"Rasio2\"])\n",
    "\n",
    "    # Bonds and Sukuk\n",
    "    for b in stock.get(\"BondsAndSukuk\", []):\n",
    "        tx.run(\"\"\"\n",
    "            MERGE (bond:Bond {isin: $isin})\n",
    "            SET bond.namaEmisi = $nama_emisi, bond.listingDate = date($listing_date),\n",
    "                bond.matureDate = date($mature_date), bond.rating = $rating, bond.nominal = $nominal,\n",
    "                bond.margin = $margin, bond.waliAmanat = $wali_amanat\n",
    "            WITH bond\n",
    "            MATCH (c:Company {kode: $kode})\n",
    "            MERGE (c)-[:ISSUED]->(bond)\n",
    "        \"\"\", isin=b[\"ISINCode\"], nama_emisi=b[\"NamaEmisi\"], listing_date=b[\"ListingDate\"][:10],\n",
    "            mature_date=b[\"MatureDate\"][:10], rating=b[\"Rating\"], nominal=b[\"Nominal\"],\n",
    "            margin=b[\"Margin\"], wali_amanat=b[\"WaliAmanat\"], kode=b[\"KodeEmiten\"])\n",
    "\n",
    "    # Issued Bond Details\n",
    "    for i in stock.get(\"IssuedBond\", []):\n",
    "        tx.run(\"\"\"\n",
    "            MERGE (i:IssuedBond {id: $id})\n",
    "            SET i.namaSeri = $nama_seri, i.amortisasiValue = $amortisasi_value,\n",
    "                i.sinkingFund = $sinking_fund, i.couponDetail = $coupon_detail,\n",
    "                i.couponPaymentDetail = date($coupon_payment_detail),\n",
    "                i.matureDate = date($mature_date)\n",
    "            WITH i\n",
    "            MATCH (c:Company {kode: $kode})\n",
    "            MERGE (c)-[:ISSUED_DETAIL]->(i)\n",
    "        \"\"\", id=i[\"id\"], nama_seri=i[\"NamaSeri\"], amortisasi_value=i[\"AmortisasiValue\"],\n",
    "            sinking_fund=i[\"SinkingFund\"], coupon_detail=i[\"CouponDetail\"],\n",
    "            coupon_payment_detail=i[\"CouponPaymentDetail\"][:10],\n",
    "            mature_date=i[\"MatureDate\"][:10], kode=i[\"KodeEmiten\"])\n",
    "\n",
    "# Ingest all stocks\n",
    "with driver.session() as session:\n",
    "    for ticker, stock_data in stocks.items():\n",
    "        # print(ticker, stock_data['Profiles'][0][0][\"KodeEmiten\"])\n",
    "        session.execute_write(ingest_stock, stock_data) \n",
    "\n",
    "print(\"Ingestion complete.\")\n",
    "driver.close()\n"
   ]
  },
  {
   "cell_type": "code",
   "execution_count": null,
   "id": "21e73a38",
   "metadata": {},
   "outputs": [],
   "source": [
    "MATCH (c:Company)-[]-(i:Insider)\n",
    "WHERE toLower(i.name) CONTAINS 'lo kheng hong'\n",
    "RETURN c, i\n",
    "\n",
    "MATCH (i:Insider)\n",
    "WHERE toLower(i.name) CONTAINS 'jerry ng'\n",
    "MATCH (i)-[r1:OWNS|DIRECTOR_OF|COMMISSIONER_OF]->(c:Company)\n",
    "OPTIONAL MATCH (s:Subsidiary)-[r2:SUBSIDIARY_OF]->(c)\n",
    "RETURN DISTINCT i, r1, c, r2, s"
   ]
  },
  {
   "cell_type": "code",
   "execution_count": 3,
   "id": "d343eb72",
   "metadata": {},
   "outputs": [
    {
     "name": "stdout",
     "output_type": "stream",
     "text": [
      "All data deleted.\n"
     ]
    }
   ],
   "source": [
    "# Cypher command to delete all data\n",
    "cypher_query = \"MATCH (n) DETACH DELETE n\"\n",
    "\n",
    "def delete_all_data():\n",
    "    driver = GraphDatabase.driver(NEO4J_URI, auth=(NEO4J_USER, NEO4J_PASSWORD))\n",
    "    with driver.session() as session:\n",
    "        session.run(cypher_query)\n",
    "    driver.close()\n",
    "    print(\"All data deleted.\")\n",
    "\n",
    "delete_all_data()"
   ]
  }
 ],
 "metadata": {
  "kernelspec": {
   "display_name": ".venv",
   "language": "python",
   "name": "python3"
  },
  "language_info": {
   "codemirror_mode": {
    "name": "ipython",
    "version": 3
   },
   "file_extension": ".py",
   "mimetype": "text/x-python",
   "name": "python",
   "nbconvert_exporter": "python",
   "pygments_lexer": "ipython3",
   "version": "3.13.3"
  }
 },
 "nbformat": 4,
 "nbformat_minor": 5
}
