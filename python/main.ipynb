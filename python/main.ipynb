{
 "cells": [
  {
   "cell_type": "code",
   "execution_count": null,
   "id": "bbca1d53",
   "metadata": {},
   "outputs": [],
   "source": [
    "import pandas as pd\n",
    "\n",
    "len(pd.read_json('/home/al/projects/idx-bei/data/companyDetailsByKodeEmiten.json').columns)"
   ]
  },
  {
   "cell_type": "code",
   "execution_count": null,
   "id": "7b03f583",
   "metadata": {},
   "outputs": [],
   "source": [
    "with open(\"/home/al/projects/idx-bei/data/companyDetailsByKodeEmiten.json\", \"r\", encoding=\"utf-8\") as f:\n",
    "    stocks = json.load(f)  # Make sure this returns a list of dicts\n"
   ]
  },
  {
   "cell_type": "code",
   "execution_count": null,
   "id": "7edc335c",
   "metadata": {},
   "outputs": [],
   "source": [
    "print(type(stocks))         # should be <class 'list'>\n",
    "print(type(stocks[0]))      # should be <class 'dict'>\n"
   ]
  },
  {
   "cell_type": "code",
   "execution_count": null,
   "id": "5cc12a86",
   "metadata": {},
   "outputs": [],
   "source": [
    "import json\n",
    "from neo4j import GraphDatabase\n",
    "\n",
    "# Neo4j connection config\n",
    "NEO4J_URI = \"bolt://localhost:7687\"\n",
    "NEO4J_USER = \"neo4j\"\n",
    "NEO4J_PASSWORD = \"password\"\n",
    "\n",
    "# Load JSON data\n",
    "with open(\"/home/al/projects/idx-bei/data/companyDetailsByKodeEmiten.json\", \"r\", encoding=\"utf-8\") as f:\n",
    "    stocks = json.load(f)\n",
    "\n",
    "# Connect to Neo4j\n",
    "driver = GraphDatabase.driver(NEO4J_URI, auth=(NEO4J_USER, NEO4J_PASSWORD))\n",
    "\n",
    "def ingest_stock(tx, stock):\n",
    "    # Create Company node\n",
    "    tx.run(\"\"\"\n",
    "        MERGE (c:Company {kode: $kode})\n",
    "        SET c.name = $name, c.industry = $industry, c.sector = $sector, c.website = $website\n",
    "    \"\"\", kode=stock['Profiles'][0][\"KodeEmiten\"], name=stock['Profiles'][0][\"NamaEmiten\"], industry=stock['Profiles'][0][\"Industri\"], sector=stock['Profiles'][0][\"Sektor\"], website=stock['Profiles'][0][\"Website\"])\n",
    "\n",
    "    # Directors\n",
    "    for d in stock.get(\"Direksi\", []):\n",
    "        tx.run(\"\"\"\n",
    "            MERGE (d:Insider {name: $name})\n",
    "            SET d.jabatan = $jabatan, d.afiliasi = $afiliasi\n",
    "            WITH d\n",
    "            MATCH (c:Company {kode: $kode})\n",
    "            MERGE (c)-[:HAS_DIRECTOR]->(d)\n",
    "        \"\"\", name=d[\"Nama\"], jabatan=d[\"Jabatan\"], afiliasi=d.get(\"Afiliasi\", False), kode=stock['Profiles'][0][\"KodeEmiten\"])\n",
    "\n",
    "    # Commissioners\n",
    "    for k in stock.get(\"Komisaris\", []):\n",
    "        tx.run(\"\"\"\n",
    "            MERGE (k:Insider {name: $name})\n",
    "            SET k.jabatan = $jabatan, k.independen = $independen\n",
    "            WITH k\n",
    "            MATCH (c:Company {kode: $kode})\n",
    "            MERGE (c)-[:HAS_COMMISSIONER]->(k)\n",
    "        \"\"\", name=k[\"Nama\"], jabatan=k[\"Jabatan\"], independen=k.get(\"Independen\", False), kode=stock['Profiles'][0][\"KodeEmiten\"])\n",
    "\n",
    "    # Shareholders\n",
    "    for s in stock.get(\"PemegangSaham\", []):\n",
    "        tx.run(\"\"\"\n",
    "            MERGE (s:Insider {name: $name})\n",
    "            SET s.kategori = $kategori\n",
    "            WITH s\n",
    "            MATCH (c:Company {kode: $kode})\n",
    "            MERGE (s)-[:OWNS {persentase: $persentase, jumlah: $jumlah}]->(c)\n",
    "        \"\"\", name=s[\"Nama\"], kategori=s.get(\"Kategori\"), persentase=s.get(\"Persentase\"), jumlah=s.get(\"Jumlah\"), kode=stock['Profiles'][0][\"KodeEmiten\"])\n",
    "\n",
    "# Ingest all stocks\n",
    "with driver.session() as session:\n",
    "    for ticker, stock_data in stocks.items():\n",
    "        # print(ticker, stock_data['Profiles'][0][0][\"KodeEmiten\"])\n",
    "        session.execute_write(ingest_stock, stock_data) \n",
    "\n",
    "print(\"Ingestion complete.\")\n",
    "driver.close()\n"
   ]
  }
 ],
 "metadata": {
  "kernelspec": {
   "display_name": ".venv",
   "language": "python",
   "name": "python3"
  },
  "language_info": {
   "codemirror_mode": {
    "name": "ipython",
    "version": 3
   },
   "file_extension": ".py",
   "mimetype": "text/x-python",
   "name": "python",
   "nbconvert_exporter": "python",
   "pygments_lexer": "ipython3",
   "version": "3.13.3"
  }
 },
 "nbformat": 4,
 "nbformat_minor": 5
}
